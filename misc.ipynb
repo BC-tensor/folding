{
 "cells": [
  {
   "cell_type": "code",
   "execution_count": 14,
   "metadata": {},
   "outputs": [
    {
     "name": "stderr",
     "output_type": "stream",
     "text": [
      "\u001b[32m2024-06-14 17:29:58.582\u001b[0m | EVENTS  \u001b[0m | \u001b[36m__main__\u001b[0m:\u001b[36m<module>\u001b[0m:\u001b[36m38\u001b[0m - events:defaultdict(<function create_default_dict.<locals>.nested_dict at 0x7f6f16166de0>, {'pdb_id': '300d', 'running_simulations': ['3mu8', '168d'], 'condition': 'new_simulation', 'start_time': 1718384712.9440396, 'md_inputs_sizes': [1747546, 10875, 16734, 226995, 1190, 146495, 1950, 2136, 2363, 1195], 'md_inputs_filenames': ['em.gro', 'posre_RNA_chain_A.itp', 'posre_RNA_chain_B.itp', 'topol_RNA_chain_B.itp', 'topol.top', 'topol_RNA_chain_A.itp', 'nvt.mdp', 'npt.mdp', 'md.mdp', 'emin.mdp'], 'query_forward_time': 0.04722785949707031})\u001b[0m\n"
     ]
    }
   ],
   "source": [
    "from collections import defaultdict\n",
    "from loguru import logger as loguru_logger\n",
    "import os \n",
    "\n",
    "\n",
    "def create_default_dict():\n",
    "    def nested_dict():\n",
    "        return defaultdict(\n",
    "            lambda: None\n",
    "        )  # allows us to set the desired attribute to anything.\n",
    "\n",
    "    return defaultdict(nested_dict)\n",
    "\n",
    "event = create_default_dict()\n",
    "event['pdb_id'] = '300d'\n",
    "event['running_simulations'] = ['3mu8', '168d']\n",
    "event['condition'] = 'new_simulation'\n",
    "event['start_time'] = 1718384712.9440396\n",
    "event['md_inputs_sizes'] = [1747546, 10875, 16734, 226995, 1190, 146495, 1950, 2136, 2363, 1195]\n",
    "event['md_inputs_filenames'] = ['em.gro', 'posre_RNA_chain_A.itp', 'posre_RNA_chain_B.itp', 'topol_RNA_chain_B.itp', 'topol.top', 'topol_RNA_chain_A.itp', 'nvt.mdp', 'npt.mdp', 'md.mdp', 'emin.mdp']\n",
    "event['query_forward_time'] = 0.04722785949707031\n",
    "event\n",
    "\n",
    "base_dir = '/home/spunion/folding/folding'\n",
    "if \"EVENTS\" not in loguru_logger._core.levels:\n",
    "    loguru_logger.level(\"EVENTS\", no=38, icon=\"📝\")\n",
    "    loguru_logger.add(\n",
    "        os.path.join(base_dir, \"events.log\"),\n",
    "        rotation=\"2 GB\",\n",
    "        serialize=True,\n",
    "        enqueue=True,\n",
    "        backtrace=False,\n",
    "        diagnose=False,\n",
    "        level=\"EVENTS\",\n",
    "        format=\"{time:YYYY-MM-DD at HH:mm:ss} | {level} | {message}\",\n",
    "    )\n",
    "\n",
    "loguru_logger.log(\"EVENTS\", \"events: \" + str(event))"
   ]
  },
  {
   "cell_type": "code",
   "execution_count": null,
   "metadata": {},
   "outputs": [],
   "source": [
    "    def run(\n",
    "        self,\n",
    "        md_inputs: Dict,\n",
    "        commands: Dict,\n",
    "        suppress_cmd_output: bool = True,\n",
    "        mock: bool = False,\n",
    "        event: Dict = None,"
   ]
  }
 ],
 "metadata": {
  "kernelspec": {
   "display_name": "venv",
   "language": "python",
   "name": "python3"
  },
  "language_info": {
   "codemirror_mode": {
    "name": "ipython",
    "version": 3
   },
   "file_extension": ".py",
   "mimetype": "text/x-python",
   "name": "python",
   "nbconvert_exporter": "python",
   "pygments_lexer": "ipython3",
   "version": "3.11.6"
  }
 },
 "nbformat": 4,
 "nbformat_minor": 2
}
